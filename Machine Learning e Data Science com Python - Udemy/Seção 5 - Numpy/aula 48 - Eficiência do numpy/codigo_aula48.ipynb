{
 "cells": [
  {
   "cell_type": "code",
   "execution_count": 1,
   "metadata": {
    "collapsed": true
   },
   "outputs": [],
   "source": [
    "import numpy as np\n",
    "import time"
   ]
  },
  {
   "cell_type": "code",
   "execution_count": 9,
   "metadata": {},
   "outputs": [
    {
     "name": "stdout",
     "output_type": "stream",
     "text": [
      "26.068594217300415\n"
     ]
    }
   ],
   "source": [
    "# medindo o tempo de execução da soma de um array usando python puro\n",
    "\n",
    "soma = 0\n",
    "\n",
    "ini = time.time()\n",
    "for i in range(1, 100000001):\n",
    "    soma += i\n",
    "\n",
    "fim = time.time()\n",
    "tempo = fim-ini\n",
    "print(tempo)"
   ]
  },
  {
   "cell_type": "code",
   "execution_count": 8,
   "metadata": {},
   "outputs": [
    {
     "name": "stdout",
     "output_type": "stream",
     "text": [
      "1.3407349586486816\n"
     ]
    }
   ],
   "source": [
    "# medindo o tempo de execução da soma de um array usando numpy\n",
    "\n",
    "ini = time.time()\n",
    "np.arange(1,100000001).sum()\n",
    "fim = time.time()\n",
    "\n",
    "tempo = fim-ini\n",
    "print(tempo)"
   ]
  }
 ],
 "metadata": {
  "kernelspec": {
   "display_name": "Python 3",
   "language": "python",
   "name": "python3"
  },
  "language_info": {
   "codemirror_mode": {
    "name": "ipython",
    "version": 3
   },
   "file_extension": ".py",
   "mimetype": "text/x-python",
   "name": "python",
   "nbconvert_exporter": "python",
   "pygments_lexer": "ipython3",
   "version": "3.6.5"
  }
 },
 "nbformat": 4,
 "nbformat_minor": 2
}
