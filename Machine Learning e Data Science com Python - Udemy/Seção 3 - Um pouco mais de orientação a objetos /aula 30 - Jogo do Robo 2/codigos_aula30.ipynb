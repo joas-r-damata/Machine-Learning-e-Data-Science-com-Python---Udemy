{
 "cells": [
  {
   "cell_type": "markdown",
   "metadata": {},
   "source": [
    "# JOGO DO ROBO\n",
    "\n",
    "* um robo que se movimenta em uma matriz 10x10\n",
    "* a matriz vai de 0x0 ate 10x10(ou 9x9, não sei)"
   ]
  },
  {
   "cell_type": "code",
   "execution_count": 65,
   "metadata": {
    "collapsed": true
   },
   "outputs": [],
   "source": [
    "#implementando classe robo e seus metodos\n",
    "\n",
    "class Robo(object):\n",
    "    \n",
    "    def __init__(self, x, y):\n",
    "        self.x = x\n",
    "        self.y = y\n",
    "        \n",
    "    def move_up(self):\n",
    "        if self.y < 10:\n",
    "            self.y = self.y + 1\n",
    "        else:\n",
    "            print(\"Movimento Proibido\")\n",
    "        \n",
    "    def move_down(self):\n",
    "        if self.y > 0:\n",
    "            self.y = self.y - 1\n",
    "        else:\n",
    "            print(\"Movimento Proibido\")\n",
    "        \n",
    "    def move_left(self):\n",
    "        if self.x  > 0 :\n",
    "            self.x = self.x - 1\n",
    "        else:\n",
    "            print(\"Movimento Proibido\")\n",
    "    \n",
    "    def move_right(self):\n",
    "        if self.x < 10:\n",
    "            self.x = sel.x + 1\n",
    "        else:\n",
    "            print(\"Movimento Proibido\")\n"
   ]
  },
  {
   "cell_type": "code",
   "execution_count": null,
   "metadata": {
    "collapsed": true
   },
   "outputs": [],
   "source": []
  },
  {
   "cell_type": "code",
   "execution_count": 66,
   "metadata": {},
   "outputs": [],
   "source": [
    "r1 = Robo(5,5)"
   ]
  },
  {
   "cell_type": "code",
   "execution_count": 74,
   "metadata": {},
   "outputs": [
    {
     "name": "stdout",
     "output_type": "stream",
     "text": [
      "Movimento Proibido\n"
     ]
    }
   ],
   "source": [
    "r1.move_up()"
   ]
  },
  {
   "cell_type": "code",
   "execution_count": 75,
   "metadata": {},
   "outputs": [
    {
     "data": {
      "text/plain": [
       "10"
      ]
     },
     "execution_count": 75,
     "metadata": {},
     "output_type": "execute_result"
    }
   ],
   "source": [
    "r1.y"
   ]
  }
 ],
 "metadata": {
  "kernelspec": {
   "display_name": "Python 3",
   "language": "python",
   "name": "python3"
  },
  "language_info": {
   "codemirror_mode": {
    "name": "ipython",
    "version": 3
   },
   "file_extension": ".py",
   "mimetype": "text/x-python",
   "name": "python",
   "nbconvert_exporter": "python",
   "pygments_lexer": "ipython3",
   "version": "3.6.5"
  }
 },
 "nbformat": 4,
 "nbformat_minor": 2
}
