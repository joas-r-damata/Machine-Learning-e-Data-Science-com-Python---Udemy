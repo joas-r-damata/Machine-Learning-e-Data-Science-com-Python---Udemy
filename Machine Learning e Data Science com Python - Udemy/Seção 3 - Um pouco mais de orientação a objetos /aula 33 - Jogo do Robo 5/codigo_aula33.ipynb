{
 "cells": [
  {
   "cell_type": "markdown",
   "metadata": {},
   "source": [
    "# notas\n",
    "\n",
    "a = Point(2,1)\n",
    "str(a)"
   ]
  },
  {
   "cell_type": "code",
   "execution_count": 7,
   "metadata": {},
   "outputs": [],
   "source": [
    "# definindo o metodo mágico __str__(self) que imprime o conteudo do objeto ao fazermos print(objeto)\n",
    "\n",
    "class Point(object):\n",
    "    \n",
    "    def __init__(self, x, y):\n",
    "        self.x = x\n",
    "        self.y = y\n",
    "        \n",
    "    def __str__(self):\n",
    "        return \"<%s, %s>\" %(self.x, self.y) \n",
    "\n",
    "#classe Reward\n",
    "class Reward(Point):\n",
    "    \n",
    "    def __init__(self, x, y, name):\n",
    "        super(Reward, self).__init__(x, y)\n",
    "        self.name = name\n",
    "    \n",
    "    def __str__(self):\n",
    "        return \"<%s, %s>: %s\" %(self.x, self.y, self.name)\n",
    "    \n",
    "    def __repr__(self):\n",
    "        return \"<Reward> %s \" %str(self)\n",
    "    \n",
    "#classe Robot\n",
    "class Robot(Point):\n",
    "    \n",
    "    def move_up(self):\n",
    "        if self.y < 10:\n",
    "            self.y = self.y + 1\n",
    "        else:\n",
    "            print('Movimento proibido')\n",
    "    \n",
    "    def move_down(self):\n",
    "        if self.y > 0:\n",
    "            self.y = self.y - 1\n",
    "        else:\n",
    "            print('Movimento proibido')\n",
    "    \n",
    "    def move_left(self):\n",
    "        if self.x > 0:\n",
    "            self.x = self.x - 1\n",
    "        else:\n",
    "            print('Movimento proibido')\n",
    "    \n",
    "    def move_right(self):\n",
    "        if self.x < 10:\n",
    "            self.x = self.x + 1\n",
    "        else:\n",
    "            print('Movimento proibido')\n",
    "            "
   ]
  },
  {
   "cell_type": "code",
   "execution_count": 8,
   "metadata": {
    "collapsed": true
   },
   "outputs": [],
   "source": [
    "# função que checa se o robô está em uma posição com recompensa\n",
    "\n",
    "def check_reward(robot, rewards):\n",
    "    ok = False\n",
    "    \n",
    "    for reward in rewards:\n",
    "        if reward.x == robot.x and reward.y == robot.y:\n",
    "            print(\"\\nO robô achou a recompensa: %\" %(reward.name))\n",
    "            ok = True\n",
    "    return ok"
   ]
  },
  {
   "cell_type": "code",
   "execution_count": 9,
   "metadata": {
    "collapsed": true
   },
   "outputs": [],
   "source": [
    "# importando biblioteca de geração de numeros aleatórios\n",
    "import random"
   ]
  },
  {
   "cell_type": "code",
   "execution_count": 20,
   "metadata": {
    "collapsed": true
   },
   "outputs": [],
   "source": [
    "#criando recompensas\n",
    "r1 = Reward(random.randint(0,10), random.randint(0, 10), \"moeda\")\n",
    "r2 = Reward(random.randint(0,10), random.randint(0, 10), \"combustível\")\n",
    "r3 = Reward(random.randint(0,10), random.randint(0, 10), \"arma\")\n",
    "\n",
    "#adicionando as recompensas a uma lista\n",
    "rewards = [r1,r2,r3]"
   ]
  },
  {
   "cell_type": "code",
   "execution_count": 19,
   "metadata": {},
   "outputs": [
    {
     "name": "stdout",
     "output_type": "stream",
     "text": [
      "<8, 7>: moeda\n"
     ]
    },
    {
     "data": {
      "text/plain": [
       "'<8, 7>: moeda'"
      ]
     },
     "execution_count": 19,
     "metadata": {},
     "output_type": "execute_result"
    }
   ],
   "source": [
    "# imprimindo conteúdo do objeto da classe Reward\n",
    "print(r1)\n",
    "\n",
    "str(r1)"
   ]
  },
  {
   "cell_type": "code",
   "execution_count": 22,
   "metadata": {},
   "outputs": [
    {
     "data": {
      "text/plain": [
       "[<Reward> <4, 4>: moeda ,\n",
       " <Reward> <10, 4>: combustível ,\n",
       " <Reward> <0, 7>: arma ]"
      ]
     },
     "execution_count": 22,
     "metadata": {},
     "output_type": "execute_result"
    }
   ],
   "source": [
    "rewards"
   ]
  },
  {
   "cell_type": "code",
   "execution_count": 24,
   "metadata": {},
   "outputs": [
    {
     "data": {
      "text/plain": [
       "'<Reward> <4, 4>: moeda '"
      ]
     },
     "execution_count": 24,
     "metadata": {},
     "output_type": "execute_result"
    }
   ],
   "source": [
    "#testando método mágico __repr__self()\n",
    "\n",
    "r1.__repr__()"
   ]
  },
  {
   "cell_type": "code",
   "execution_count": 25,
   "metadata": {},
   "outputs": [
    {
     "data": {
      "text/plain": [
       "'<7, 3>'"
      ]
     },
     "execution_count": 25,
     "metadata": {},
     "output_type": "execute_result"
    }
   ],
   "source": [
    "# iniciando o robo com uma posição aleatória\n",
    "robot = Robot(random.randint(0,10), random.randint(0,10))\n",
    "\n",
    "str(robot)"
   ]
  }
 ],
 "metadata": {
  "kernelspec": {
   "display_name": "Python 3",
   "language": "python",
   "name": "python3"
  },
  "language_info": {
   "codemirror_mode": {
    "name": "ipython",
    "version": 3
   },
   "file_extension": ".py",
   "mimetype": "text/x-python",
   "name": "python",
   "nbconvert_exporter": "python",
   "pygments_lexer": "ipython3",
   "version": "3.6.5"
  }
 },
 "nbformat": 4,
 "nbformat_minor": 2
}
