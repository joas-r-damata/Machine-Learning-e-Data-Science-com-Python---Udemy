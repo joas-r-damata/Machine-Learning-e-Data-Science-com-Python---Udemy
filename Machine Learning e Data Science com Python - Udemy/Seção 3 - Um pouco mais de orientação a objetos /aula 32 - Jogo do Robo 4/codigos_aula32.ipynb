{
 "cells": [
  {
   "cell_type": "code",
   "execution_count": 1,
   "metadata": {
    "collapsed": true
   },
   "outputs": [],
   "source": [
    "# Definindo as classes que comporão o jogo: Point, Reward, Robot, check_reward\n",
    "\n",
    "class Point(object):\n",
    "    \n",
    "    def __init__(self, x, y):\n",
    "        self.x = x\n",
    "        self.y = y\n",
    "        \n",
    "class Reward(Point):\n",
    "    \n",
    "    def __init__(self,x,y, name):\n",
    "        super(Reward, self).__init__(x,y)\n",
    "        self.name = name\n",
    "\n",
    "class Robot(Point):\n",
    "    # o método construtor da classe herdada, Point, é automaticamente chamado\n",
    "    \n",
    "    def move_up(self):\n",
    "        if self.y < 10:\n",
    "            self.y = self.y + 1\n",
    "        else:\n",
    "            print(\"Movimento proibido\")\n",
    "            \n",
    "    def move_down(self):\n",
    "        if self.y > 0:\n",
    "            self.y = self.y - 1\n",
    "        else:\n",
    "            print(\"Movimento proibido\")\n",
    "            \n",
    "    def move_right(self):\n",
    "        if self.x < 10:\n",
    "            self.x = self.x + 1\n",
    "        else:\n",
    "            print(\"Movimento proibido\")\n",
    "    \n",
    "    def move_left(self):\n",
    "        if self.x > 0:\n",
    "            self.x = self.x - 1\n",
    "        else:\n",
    "            print(\"Movimento proibido\")\n",
    "            \n"
   ]
  },
  {
   "cell_type": "code",
   "execution_count": 2,
   "metadata": {
    "collapsed": true
   },
   "outputs": [],
   "source": [
    "def check_reward(robot, rewards):\n",
    "    ok = False\n",
    "    \n",
    "    for reward in rewards:\n",
    "        if reward.x == robot.x and reward.y == robot.y:\n",
    "            print(\"O robô achou a recompensa: %s\" %reward.name)\n",
    "            ok = True\n",
    "    return ok\n"
   ]
  },
  {
   "cell_type": "code",
   "execution_count": 3,
   "metadata": {
    "collapsed": true
   },
   "outputs": [],
   "source": [
    "# criando algumas recompensas\n",
    "\n",
    "r1 = Reward(1,2, \"moeda\")\n",
    "r2 = Reward(5,3,\"gasolina\")"
   ]
  },
  {
   "cell_type": "code",
   "execution_count": 4,
   "metadata": {
    "collapsed": true
   },
   "outputs": [],
   "source": [
    "#criando um robo\n",
    "robot = Robot(2,2)\n",
    "\n",
    "#colocando as recompensas em uma lista\n",
    "rewards = [r1, r2]"
   ]
  },
  {
   "cell_type": "code",
   "execution_count": 5,
   "metadata": {},
   "outputs": [
    {
     "data": {
      "text/plain": [
       "False"
      ]
     },
     "execution_count": 5,
     "metadata": {},
     "output_type": "execute_result"
    }
   ],
   "source": [
    "# checando se robo está na posição de laguma recompensa\n",
    "\n",
    "check_reward(robot, rewards)"
   ]
  },
  {
   "cell_type": "code",
   "execution_count": 6,
   "metadata": {
    "collapsed": true
   },
   "outputs": [],
   "source": [
    "#movendo o robo para esquerda\n",
    "robot.move_left()"
   ]
  },
  {
   "cell_type": "code",
   "execution_count": 7,
   "metadata": {},
   "outputs": [
    {
     "name": "stdout",
     "output_type": "stream",
     "text": [
      "O robô achou a recompensa: moeda\n",
      "1 2\n"
     ]
    }
   ],
   "source": [
    "# checando recompenssa novamente\n",
    "check_reward(robot, rewards)\n",
    "\n",
    "print(robot.x, robot.y)"
   ]
  }
 ],
 "metadata": {
  "kernelspec": {
   "display_name": "Python 3",
   "language": "python",
   "name": "python3"
  },
  "language_info": {
   "codemirror_mode": {
    "name": "ipython",
    "version": 3
   },
   "file_extension": ".py",
   "mimetype": "text/x-python",
   "name": "python",
   "nbconvert_exporter": "python",
   "pygments_lexer": "ipython3",
   "version": "3.6.5"
  }
 },
 "nbformat": 4,
 "nbformat_minor": 2
}
