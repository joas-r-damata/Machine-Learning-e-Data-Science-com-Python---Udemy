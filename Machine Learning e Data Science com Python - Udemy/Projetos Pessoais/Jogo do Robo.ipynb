{
 "cells": [
  {
   "cell_type": "code",
   "execution_count": 2,
   "metadata": {},
   "outputs": [
    {
     "ename": "SyntaxError",
     "evalue": "invalid syntax (<ipython-input-2-dcd9cf8bf5f6>, line 43)",
     "output_type": "error",
     "traceback": [
      "\u001b[0;36m  File \u001b[0;32m\"<ipython-input-2-dcd9cf8bf5f6>\"\u001b[0;36m, line \u001b[0;32m43\u001b[0m\n\u001b[0;31m    def move right(self):\u001b[0m\n\u001b[0m                 ^\u001b[0m\n\u001b[0;31mSyntaxError\u001b[0m\u001b[0;31m:\u001b[0m invalid syntax\n"
     ]
    }
   ],
   "source": [
    "#Classe Point: representa um ponto no plano\n",
    "\n",
    "class Point(object):\n",
    "    \n",
    "    def __init__(self, x, y):\n",
    "        self.x = x\n",
    "        self.y = y\n",
    "        \n",
    "    def __str__(self):\n",
    "        return \"<%s, %s>\"%(self.x, self.y)\n",
    "    \n",
    "    \n",
    "#Classe Reward: representa uma recompensa localizada no plano\n",
    "\n",
    "class Reward(Point):\n",
    "    \n",
    "    def __init__(self, x, y, name):\n",
    "        super(Reward, self).__init__(x,y)\n",
    "        self.name = name\n",
    "    \n",
    "    def __str__(self):\n",
    "        return \"<%s, %s>: %s\" %(self.x, self.y, self.name)\n",
    "    \n",
    "    def __repr__(self):\n",
    "        return \"<Reward> %s\"%str(self)\n",
    "    \n",
    "#Classe Robot: herda de Point. A classe Point é usada para representar a posição do robo\n",
    "\n",
    "class Robot(Point):\n",
    "    \n",
    "    def move_up(self):\n",
    "        if self.y < 10:\n",
    "            self.y = self.y + 1\n",
    "        else:\n",
    "            print(\"\\n Movimento Proibido\")\n",
    "    \n",
    "    def move_down(self):\n",
    "        if self.y > 0:\n",
    "            self.y = self.y - 1\n",
    "        else:\n",
    "            print(\"\\n Movimento Proibido\")\n",
    "            \n",
    "    def move right(self):\n",
    "        if self.x < 10:\n",
    "            self.x = self.x + 1\n",
    "        else:\n",
    "            print(\"\\n Movimento Proibido\")\n",
    "            \n",
    "    def move_left(self):\n",
    "        if self.x > 0:\n",
    "            self.x = self.x - 1\n",
    "        else:\n",
    "            print(\"\\n Movimento Proibido\")\n",
    "            \n"
   ]
  },
  {
   "cell_type": "code",
   "execution_count": null,
   "metadata": {
    "collapsed": true
   },
   "outputs": [],
   "source": [
    "# função que verifica recompensa\n",
    "\n",
    "def check_reward(robot, rewards):\n",
    "    "
   ]
  }
 ],
 "metadata": {
  "kernelspec": {
   "display_name": "Python 3",
   "language": "python",
   "name": "python3"
  },
  "language_info": {
   "codemirror_mode": {
    "name": "ipython",
    "version": 3
   },
   "file_extension": ".py",
   "mimetype": "text/x-python",
   "name": "python",
   "nbconvert_exporter": "python",
   "pygments_lexer": "ipython3",
   "version": "3.6.5"
  }
 },
 "nbformat": 4,
 "nbformat_minor": 2
}
