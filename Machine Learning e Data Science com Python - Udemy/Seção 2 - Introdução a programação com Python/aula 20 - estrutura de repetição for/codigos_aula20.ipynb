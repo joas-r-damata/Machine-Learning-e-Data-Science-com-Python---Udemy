{
 "cells": [
  {
   "cell_type": "code",
   "execution_count": 2,
   "metadata": {},
   "outputs": [
    {
     "name": "stdout",
     "output_type": "stream",
     "text": [
      "1\n",
      "2\n",
      "3\n",
      "4\n"
     ]
    }
   ],
   "source": [
    "#iterando sobre listas\n",
    "\n",
    "lista = [1,2,3,4]\n",
    "for e in lista:\n",
    "    print(e)"
   ]
  },
  {
   "cell_type": "code",
   "execution_count": 4,
   "metadata": {},
   "outputs": [
    {
     "name": "stdout",
     "output_type": "stream",
     "text": [
      "encontrou\n"
     ]
    }
   ],
   "source": [
    "lista = [1,10,3,4]\n",
    "busca = 3\n",
    "for e in lista:\n",
    "    if e == busca:\n",
    "        print(\"encontrou\")\n",
    "        break"
   ]
  },
  {
   "cell_type": "code",
   "execution_count": 6,
   "metadata": {},
   "outputs": [
    {
     "name": "stdout",
     "output_type": "stream",
     "text": [
      "2 4 6 8 10 "
     ]
    }
   ],
   "source": [
    "#cria uma lista com a função range, de 2 a 11 de 2 em 2\n",
    "for i in range(2, 11, 2):\n",
    "    print(i, end=\" \")"
   ]
  },
  {
   "cell_type": "code",
   "execution_count": 26,
   "metadata": {},
   "outputs": [
    {
     "name": "stdout",
     "output_type": "stream",
     "text": [
      "P y t h o n   é   a   m e l h o r   l i n g u a g e m   d e   p r o g r a m a ç ã o "
     ]
    }
   ],
   "source": [
    "#iterando sobre uma string\n",
    "nome = \"Python é a melhor linguagem de programação\"\n",
    "\n",
    "for letra in nome:\n",
    "    print(letra, end=\" \")"
   ]
  }
 ],
 "metadata": {
  "kernelspec": {
   "display_name": "Python 3",
   "language": "python",
   "name": "python3"
  },
  "language_info": {
   "codemirror_mode": {
    "name": "ipython",
    "version": 3
   },
   "file_extension": ".py",
   "mimetype": "text/x-python",
   "name": "python",
   "nbconvert_exporter": "python",
   "pygments_lexer": "ipython3",
   "version": "3.6.5"
  }
 },
 "nbformat": 4,
 "nbformat_minor": 2
}
