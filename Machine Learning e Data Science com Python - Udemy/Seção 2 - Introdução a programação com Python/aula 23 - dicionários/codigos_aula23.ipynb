{
 "cells": [
  {
   "cell_type": "code",
   "execution_count": 1,
   "metadata": {
    "collapsed": true
   },
   "outputs": [],
   "source": [
    "#o dicionário é uma estrutura mutavél\n",
    "\n",
    "# o diconario é composto por um par de atributos: key (chave) e value (valor)\n",
    "\n",
    "\n",
    "# o dicionário é acessado através de suas chaves (keys)\n"
   ]
  },
  {
   "cell_type": "code",
   "execution_count": 4,
   "metadata": {},
   "outputs": [
    {
     "name": "stdout",
     "output_type": "stream",
     "text": [
      "{'joas': 25, 'maria': 20, 'pedro': 18}\n",
      "25\n",
      "True\n",
      "{'joas': 26, 'maria': 20, 'pedro': 18}\n"
     ]
    }
   ],
   "source": [
    "#criando um dicionário\n",
    "\n",
    "d = {\"joas\":25, \"maria\":20, \"pedro\":18}\n",
    "print(d)\n",
    "\n",
    "#acessando um elemento do dicionário através de uma chave existente\n",
    "print(d[\"joas\"])\n",
    "\n",
    "\n",
    "#verificando se uma chave está no dicionário\n",
    "print(\"joas\" in d)\n",
    "\n",
    "#alterando elemento do dicionário\n",
    "d[\"joas\"] = 26\n",
    "print(d)"
   ]
  },
  {
   "cell_type": "code",
   "execution_count": 6,
   "metadata": {},
   "outputs": [
    {
     "name": "stdout",
     "output_type": "stream",
     "text": [
      "25 20 18 "
     ]
    }
   ],
   "source": [
    "#acessando todos os valores do dicionário\n",
    "d = {\"joas\":25, \"maria\":20, \"pedro\":18}\n",
    "\n",
    "for k in d:\n",
    "    print(d[k], end = \" \")"
   ]
  },
  {
   "cell_type": "code",
   "execution_count": 8,
   "metadata": {},
   "outputs": [
    {
     "name": "stdout",
     "output_type": "stream",
     "text": [
      "dict_items([('joas', 25), ('maria', 20), ('pedro', 18)])\n"
     ]
    }
   ],
   "source": [
    "#imprimindo todos os itens(elementos) de um dicionário\n",
    "print(d.items())"
   ]
  },
  {
   "cell_type": "code",
   "execution_count": 10,
   "metadata": {},
   "outputs": [
    {
     "name": "stdout",
     "output_type": "stream",
     "text": [
      "dict_keys(['joas', 'maria', 'pedro'])\n"
     ]
    }
   ],
   "source": [
    "#imprimindo as chaves de um dicionario\n",
    "print(d.keys())"
   ]
  },
  {
   "cell_type": "code",
   "execution_count": 12,
   "metadata": {},
   "outputs": [
    {
     "name": "stdout",
     "output_type": "stream",
     "text": [
      "dict_values([25, 20, 18])\n"
     ]
    }
   ],
   "source": [
    "#imprimindo os valores de um dicionário\n",
    "print(d.values())"
   ]
  },
  {
   "cell_type": "code",
   "execution_count": 16,
   "metadata": {},
   "outputs": [
    {
     "name": "stdout",
     "output_type": "stream",
     "text": [
      "{'joas': 25, 'maria': 20, 'pedro': 18}\n",
      "{'joas': 25, 'maria': 20, 'pedro': 18, 'julio': 30}\n"
     ]
    }
   ],
   "source": [
    "#adicionando elementos a um dicionario existente\n",
    "\n",
    "d = {\"joas\":25, \"maria\":20, \"pedro\":18}\n",
    "print(d)\n",
    "\n",
    "d[\"julio\"] = 30\n",
    "print(d)"
   ]
  },
  {
   "cell_type": "code",
   "execution_count": null,
   "metadata": {
    "collapsed": true
   },
   "outputs": [],
   "source": []
  }
 ],
 "metadata": {
  "kernelspec": {
   "display_name": "Python 3",
   "language": "python",
   "name": "python3"
  },
  "language_info": {
   "codemirror_mode": {
    "name": "ipython",
    "version": 3
   },
   "file_extension": ".py",
   "mimetype": "text/x-python",
   "name": "python",
   "nbconvert_exporter": "python",
   "pygments_lexer": "ipython3",
   "version": "3.6.5"
  }
 },
 "nbformat": 4,
 "nbformat_minor": 2
}
