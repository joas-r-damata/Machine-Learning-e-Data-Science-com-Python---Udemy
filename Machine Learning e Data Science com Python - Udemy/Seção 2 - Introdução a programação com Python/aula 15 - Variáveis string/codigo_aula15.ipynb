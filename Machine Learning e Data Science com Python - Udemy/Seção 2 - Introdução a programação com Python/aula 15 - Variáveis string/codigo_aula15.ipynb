{
 "cells": [
  {
   "cell_type": "code",
   "execution_count": 8,
   "metadata": {},
   "outputs": [
    {
     "name": "stdout",
     "output_type": "stream",
     "text": [
      "Joás\n",
      "<class 'str'>\n",
      "s\n",
      "oás\n",
      "o\n",
      "Joás\n"
     ]
    }
   ],
   "source": [
    "nome = \"Joás\"\n",
    "print(nome)\n",
    "print(type(nome))\n",
    "\n",
    "#acessando o último elemento\n",
    "print(nome[-1])\n",
    "\n",
    "#imprimindo os 3 ultimos caracteres do nome\n",
    "print(nome[-3:])\n",
    "\n",
    "#acessando os 3 ultimo caractere\n",
    "print(nome[-3])\n",
    "\n",
    "#acessando todo o conteudo\n",
    "print(nome[:])"
   ]
  },
  {
   "cell_type": "code",
   "execution_count": 14,
   "metadata": {},
   "outputs": [
    {
     "name": "stdout",
     "output_type": "stream",
     "text": [
      "Joas Rodrigues\n",
      "Joas Joas Joas Joas Joas \n",
      "João tem 21 anos e o nome de sua namorada é Maria\n"
     ]
    }
   ],
   "source": [
    "#concatenação de strings\n",
    "\n",
    "nome = \"Joas \"\n",
    "sobrenome = \"Rodrigues\"\n",
    "\n",
    "nome_completo = nome + sobrenome\n",
    "print(nome_completo)\n",
    "\n",
    "#concatenação através do operador de multiplicação\n",
    "nome2 = 5*nome\n",
    "print(nome2)\n",
    "\n",
    "#operador de marcação \n",
    "idade = 21\n",
    "namorada = \"Maria\"\n",
    "print(\"João tem %d anos e o nome de sua namorada é %s\" %(idade, namorada))\n",
    "\n"
   ]
  },
  {
   "cell_type": "code",
   "execution_count": 16,
   "metadata": {},
   "outputs": [
    {
     "name": "stdout",
     "output_type": "stream",
     "text": [
      "sua média é 7.332\n"
     ]
    }
   ],
   "source": [
    "#operador %, insere valores de variaveis no meio do texto\n",
    "media = 7.3324324\n",
    "print(\"sua média é %.3f\" %media)"
   ]
  },
  {
   "cell_type": "code",
   "execution_count": 19,
   "metadata": {},
   "outputs": [
    {
     "name": "stdout",
     "output_type": "stream",
     "text": [
      "True\n"
     ]
    }
   ],
   "source": [
    "#strings iguais podem ter rotulos diferentes, mas seu identificador de memoria sera o mesmo\n",
    "nome1 = \"joas\"\n",
    "nome2 = \"joas\"\n",
    "\n",
    "print(id(nome1) == id(nome2))"
   ]
  }
 ],
 "metadata": {
  "kernelspec": {
   "display_name": "Python 3",
   "language": "python",
   "name": "python3"
  },
  "language_info": {
   "codemirror_mode": {
    "name": "ipython",
    "version": 3
   },
   "file_extension": ".py",
   "mimetype": "text/x-python",
   "name": "python",
   "nbconvert_exporter": "python",
   "pygments_lexer": "ipython3",
   "version": "3.6.5"
  }
 },
 "nbformat": 4,
 "nbformat_minor": 2
}
