{
 "cells": [
  {
   "cell_type": "code",
   "execution_count": 4,
   "metadata": {
    "collapsed": true
   },
   "outputs": [],
   "source": [
    "#uma tupla é um objeto imutavél"
   ]
  },
  {
   "cell_type": "code",
   "execution_count": 13,
   "metadata": {},
   "outputs": [
    {
     "name": "stdout",
     "output_type": "stream",
     "text": [
      "(1, 2, 3)\n"
     ]
    }
   ],
   "source": [
    "#criando uma tupla\n",
    "\n",
    "tupla = (1,2,3)\n",
    "print(tupla)\n",
    " "
   ]
  },
  {
   "cell_type": "code",
   "execution_count": 16,
   "metadata": {},
   "outputs": [
    {
     "name": "stdout",
     "output_type": "stream",
     "text": [
      "1 2 3\n"
     ]
    }
   ],
   "source": [
    "#acessando elementos por indice\n",
    "print(tupla[0], tupla[1], tupla[2])"
   ]
  },
  {
   "cell_type": "code",
   "execution_count": 27,
   "metadata": {},
   "outputs": [
    {
     "name": "stdout",
     "output_type": "stream",
     "text": [
      "3\n"
     ]
    }
   ],
   "source": [
    "#conta quantas ocorrencias há de um certo elemento\n",
    "elemento = 1\n",
    "\n",
    "tupla = (1,2,3,4,5,1,1)\n",
    "print(tupla.count(1))\n"
   ]
  },
  {
   "cell_type": "code",
   "execution_count": 34,
   "metadata": {},
   "outputs": [
    {
     "name": "stdout",
     "output_type": "stream",
     "text": [
      "True\n",
      "True\n",
      "True\n",
      "True\n",
      "False\n",
      "True\n",
      "True\n"
     ]
    }
   ],
   "source": [
    "#compara se todos os valores da tupla são menores que um valor passado como parametro\n",
    "tupla = (1,2,3,4,5,1,1)\n",
    "valor = 5\n",
    "\n",
    "cont = 0\n",
    "while cont < tupla.__len__():\n",
    "    print(tupla[cont].__lt__(valor))\n",
    "    cont += 1\n"
   ]
  },
  {
   "cell_type": "code",
   "execution_count": 35,
   "metadata": {},
   "outputs": [
    {
     "name": "stdout",
     "output_type": "stream",
     "text": [
      "6\n",
      "7\n",
      "8\n",
      "9\n",
      "10\n",
      "6\n",
      "6\n"
     ]
    }
   ],
   "source": [
    "#retornar os valores da tupla somados a um valor passado por parametro\n",
    "tupla = (1,2,3,4,5,1,1)\n",
    "valor = 5\n",
    "\n",
    "cont = 0\n",
    "while cont < tupla.__len__():\n",
    "    print(tupla[cont].__add__(valor))\n",
    "    cont += 1"
   ]
  }
 ],
 "metadata": {
  "kernelspec": {
   "display_name": "Python 3",
   "language": "python",
   "name": "python3"
  },
  "language_info": {
   "codemirror_mode": {
    "name": "ipython",
    "version": 3
   },
   "file_extension": ".py",
   "mimetype": "text/x-python",
   "name": "python",
   "nbconvert_exporter": "python",
   "pygments_lexer": "ipython3",
   "version": "3.6.5"
  }
 },
 "nbformat": 4,
 "nbformat_minor": 2
}
