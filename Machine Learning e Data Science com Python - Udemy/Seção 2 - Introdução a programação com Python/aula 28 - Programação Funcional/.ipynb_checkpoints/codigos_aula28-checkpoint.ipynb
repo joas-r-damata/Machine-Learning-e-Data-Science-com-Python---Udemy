{
 "cells": [
  {
   "cell_type": "code",
   "execution_count": null,
   "metadata": {},
   "outputs": [],
   "source": [
    "\"\"\"\n",
    "#Alguns termos para ficar de olha:\n",
    "built in\n",
    "função anonima\n",
    "lambda\n",
    "map\n",
    "filter\n",
    "\n",
    "#funções anonimas são obtidas através das expressões lambda. Funções descartavéis, que só serão usadas\n",
    "em algum momento especifico.\n",
    "\n",
    "#lamdba:\n",
    "usada para definir pequenas funções anonimas, funções com somente uma expressão\n",
    "\"\"\"\n"
   ]
  },
  {
   "cell_type": "code",
   "execution_count": 8,
   "metadata": {},
   "outputs": [
    {
     "data": {
      "text/plain": [
       "30"
      ]
     },
     "execution_count": 8,
     "metadata": {},
     "output_type": "execute_result"
    }
   ],
   "source": [
    "#definição de uma função lambda\n",
    "soma = lambda x,y: x+y\n",
    "soma(10,20)"
   ]
  },
  {
   "cell_type": "code",
   "execution_count": 15,
   "metadata": {},
   "outputs": [
    {
     "name": "stdout",
     "output_type": "stream",
     "text": [
      "[2, 4, 6, 8, 10]\n"
     ]
    }
   ],
   "source": [
    "#filter recebe como parametro uma função e uma sequencia como uma lista\n",
    "#aplica a função a cada elemento da sequencia e retorna apenas os elementos para os quais\n",
    "#ao se aplicar sobre ele a função, a mesma retorna um valor lógico verdadeiro\n",
    "\n",
    "#função lambda que retorna true se o elemento for par\n",
    "lista = [1,2,3,4,5,6,7,8,9,10]\n",
    "\n",
    "#filter(lambda x: x % 2 == 0, lista)\n",
    "\n",
    "lista2 = list(filter(lambda x: x % 2 == 0, lista))\n",
    "print(lista2)"
   ]
  },
  {
   "cell_type": "code",
   "execution_count": 25,
   "metadata": {},
   "outputs": [
    {
     "name": "stdout",
     "output_type": "stream",
     "text": [
      "[2, 4, 6, 8, 10, 12, 14, 16, 18, 20]\n"
     ]
    }
   ],
   "source": [
    "# map: ao receber uma função lambda e uma sequencia(como lista ou tupla), aplicará essa função\n",
    "#anonima em cada elemento da sequencia e retornará uma sequencia nova com os respectivos valores\n",
    "#alterados pela função na mesma ordem \n",
    "\n",
    "#retorna uma lista com todos os elementos da lista inicial, na mesma ordem, alterados pela função\n",
    "\n",
    "lista = [1,2,3,4,5,6,7,8,9,10]\n",
    "\n",
    "#map(lambda x: x*2, lista)\n",
    "\n",
    "lista2 = list(map(lambda x: x*2, lista))\n",
    "print(lista2)"
   ]
  },
  {
   "cell_type": "code",
   "execution_count": 32,
   "metadata": {},
   "outputs": [
    {
     "name": "stdout",
     "output_type": "stream",
     "text": [
      "[[2, 3], [4, 5], [6, 7], [8, 9], [10, 11], [12, 13], [14, 15], [16, 17], [18, 19], [20, 21]]\n"
     ]
    }
   ],
   "source": [
    "#outro exemplo do uso do map com multiplas sequencias como argumento\n",
    "\n",
    "#passando multiplas funções como argumentos de uma única função lambda\n",
    "#cada argumento será aplicado a cada um das n sequencias\n",
    "\n",
    "# saida será uma lista de lista de pares, onde o primeiro elemento é resultado da aplicação\n",
    "#da primeira função sobre a primeira lista e o segundo elemento do par é resultado da aplicação da segunda\n",
    "#função sobre a segunda lista\n",
    "\n",
    "lista1 = [1,2,3,4,5,6,7,8,9,10]\n",
    "lista2 = [2,4,6,8,10,12,14,16,18,20]\n",
    "\n",
    "resultado = map(lambda x,y: [x*2, y+1], lista1, lista2)\n",
    "resultado = list(resultado)\n",
    "\n",
    "print(resultado)"
   ]
  },
  {
   "cell_type": "code",
   "execution_count": 24,
   "metadata": {},
   "outputs": [
    {
     "data": {
      "text/plain": [
       "'Não'"
      ]
     },
     "execution_count": 24,
     "metadata": {},
     "output_type": "execute_result"
    }
   ],
   "source": [
    "# função que define se dois numeros são iguais\n",
    "\n",
    "iguais = lambda x, y: \"Sim\" if x == y else \"Não\"\n",
    "iguais(54, 55)\n",
    "\n",
    "#função definida explicitamente\n",
    "#def iguais(x, y): if x == y: return \"Sim\" else: return \"Nao\" iguais(54, 55) #isto também retorna \"Nao\"\"\""
   ]
  }
 ],
 "metadata": {
  "kernelspec": {
   "display_name": "Python 3",
   "language": "python",
   "name": "python3"
  },
  "language_info": {
   "codemirror_mode": {
    "name": "ipython",
    "version": 3
   },
   "file_extension": ".py",
   "mimetype": "text/x-python",
   "name": "python",
   "nbconvert_exporter": "python",
   "pygments_lexer": "ipython3",
   "version": "3.6.5"
  }
 },
 "nbformat": 4,
 "nbformat_minor": 2
}
