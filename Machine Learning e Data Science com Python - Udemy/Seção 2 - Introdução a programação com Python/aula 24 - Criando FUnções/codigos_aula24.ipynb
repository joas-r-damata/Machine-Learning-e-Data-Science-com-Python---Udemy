{
 "cells": [
  {
   "cell_type": "code",
   "execution_count": 1,
   "metadata": {},
   "outputs": [
    {
     "name": "stdout",
     "output_type": "stream",
     "text": [
      "3\n",
      "7\n"
     ]
    }
   ],
   "source": [
    "#definindo e implementando uma função\n",
    "\n",
    "def somar(n1, n2):\n",
    "    return n1 + n2\n",
    "\n",
    "print(somar(1,2))\n",
    "print(somar(3,4))"
   ]
  },
  {
   "cell_type": "code",
   "execution_count": 3,
   "metadata": {},
   "outputs": [
    {
     "name": "stdout",
     "output_type": "stream",
     "text": [
      "eu sou uma função\n",
      "aprendendo python\n"
     ]
    }
   ],
   "source": [
    "def imprimir():\n",
    "    print(\"eu sou uma função\")\n",
    "    print(\"aprendendo python\")\n",
    "\n",
    "imprimir()"
   ]
  },
  {
   "cell_type": "code",
   "execution_count": 4,
   "metadata": {},
   "outputs": [
    {
     "name": "stdout",
     "output_type": "stream",
     "text": [
      "True\n",
      "False\n"
     ]
    }
   ],
   "source": [
    "# função que verifica se um número é par\n",
    "\n",
    "def eh_par(x):\n",
    "    return x % 2 == 0\n",
    "print(eh_par(10))\n",
    "print(eh_par(13))"
   ]
  },
  {
   "cell_type": "code",
   "execution_count": 5,
   "metadata": {},
   "outputs": [
    {
     "name": "stdout",
     "output_type": "stream",
     "text": [
      "15\n",
      "3\n"
     ]
    }
   ],
   "source": [
    "# multiplos argumentos para uma função\n",
    "\n",
    "def foo(*args):\n",
    "    return sum(*args)\n",
    "\n",
    "print(foo([1,2,3,4,5,]))\n",
    "print(foo([1,2]))"
   ]
  },
  {
   "cell_type": "code",
   "execution_count": 6,
   "metadata": {},
   "outputs": [
    {
     "name": "stdout",
     "output_type": "stream",
     "text": [
      "hello world\n"
     ]
    }
   ],
   "source": [
    "# renomeando funções\n",
    "imprimir = print\n",
    "imprimir(\"hello world\")"
   ]
  },
  {
   "cell_type": "code",
   "execution_count": 7,
   "metadata": {},
   "outputs": [
    {
     "name": "stdout",
     "output_type": "stream",
     "text": [
      "120\n"
     ]
    }
   ],
   "source": [
    "# função recurssiva: fatorial\n",
    "\n",
    "def fat(n):\n",
    "    if n == 0 or n == 1:\n",
    "        return 1\n",
    "    return n * fat(n-1)\n",
    "\n",
    "print(fat(5))"
   ]
  },
  {
   "cell_type": "code",
   "execution_count": 8,
   "metadata": {},
   "outputs": [
    {
     "name": "stdout",
     "output_type": "stream",
     "text": [
      "desconhecido\n"
     ]
    }
   ],
   "source": [
    "#função com parametro default, caso não se passe argumentos\n",
    "\n",
    "def imprimir_nome(nome=\"desconhecido\"):\n",
    "    print(nome)\n",
    "imprimir_nome()"
   ]
  },
  {
   "cell_type": "code",
   "execution_count": 10,
   "metadata": {},
   "outputs": [
    {
     "name": "stdout",
     "output_type": "stream",
     "text": [
      "60\n"
     ]
    }
   ],
   "source": [
    "#passando função como parametro de outra função\n",
    "\n",
    "def somar(x, y, z, f):\n",
    "    return x + f(y, z)\n",
    "\n",
    "def f(n1, n2):\n",
    "    return n1 + n2\n",
    "\n",
    "print(somar(10, 20, 30,f))"
   ]
  },
  {
   "cell_type": "code",
   "execution_count": 11,
   "metadata": {},
   "outputs": [
    {
     "name": "stdout",
     "output_type": "stream",
     "text": [
      "8\n",
      "200\n"
     ]
    }
   ],
   "source": [
    "# função lambda\n",
    "\n",
    "a = lambda x: x*2\n",
    "print(a(4))\n",
    "print(a(100))"
   ]
  },
  {
   "cell_type": "code",
   "execution_count": 15,
   "metadata": {},
   "outputs": [
    {
     "name": "stdout",
     "output_type": "stream",
     "text": [
      "1 2 3\n"
     ]
    }
   ],
   "source": [
    "# quantidade indefinida de argumentos em uma função\n",
    "\n",
    "# o operador * transforma uma lista em vários argumentos \n",
    "\n",
    "def f(*args):\n",
    "    print(*args)\n",
    "    \n",
    "f(*[1,2,3])  #passa-se o argumento dessa forma se queremos que ele seja desenpacotado"
   ]
  },
  {
   "cell_type": "code",
   "execution_count": 16,
   "metadata": {},
   "outputs": [
    {
     "name": "stdout",
     "output_type": "stream",
     "text": [
      "1 2 3\n"
     ]
    }
   ],
   "source": [
    "#aqui temos os argumentos recebidos como uma tupla\n",
    "f(1,2,3)\n"
   ]
  },
  {
   "cell_type": "code",
   "execution_count": 17,
   "metadata": {},
   "outputs": [
    {
     "name": "stdout",
     "output_type": "stream",
     "text": [
      "1 2 3\n"
     ]
    }
   ],
   "source": [
    "#passando os argumentos em uma lista\n",
    "\n",
    "def f2(x,y,z):\n",
    "    print(x,y,z)\n",
    "f2(*[1,2,3])"
   ]
  }
 ],
 "metadata": {
  "kernelspec": {
   "display_name": "Python 3",
   "language": "python",
   "name": "python3"
  },
  "language_info": {
   "codemirror_mode": {
    "name": "ipython",
    "version": 3
   },
   "file_extension": ".py",
   "mimetype": "text/x-python",
   "name": "python",
   "nbconvert_exporter": "python",
   "pygments_lexer": "ipython3",
   "version": "3.6.5"
  }
 },
 "nbformat": 4,
 "nbformat_minor": 2
}
