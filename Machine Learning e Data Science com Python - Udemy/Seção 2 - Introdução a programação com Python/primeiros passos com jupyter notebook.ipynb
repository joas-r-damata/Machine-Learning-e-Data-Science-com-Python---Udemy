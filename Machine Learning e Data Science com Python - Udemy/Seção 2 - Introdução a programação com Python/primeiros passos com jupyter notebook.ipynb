{
 "cells": [
  {
   "cell_type": "code",
   "execution_count": 2,
   "metadata": {},
   "outputs": [
    {
     "name": "stdout",
     "output_type": "stream",
     "text": [
      "para imprimir este texto na tela digite: ctrl + Enter\n"
     ]
    }
   ],
   "source": [
    "print(\"para imprimir este texto na tela digite: ctrl + Enter\")"
   ]
  },
  {
   "cell_type": "code",
   "execution_count": 3,
   "metadata": {},
   "outputs": [
    {
     "name": "stdout",
     "output_type": "stream",
     "text": [
      "para imprimir este texto na tela e criar outra celula digite: Alt + Enter\n"
     ]
    }
   ],
   "source": [
    "print(\"para imprimir este texto na tela e criar outra celula digite: Alt + Enter\")"
   ]
  },
  {
   "cell_type": "code",
   "execution_count": 4,
   "metadata": {},
   "outputs": [
    {
     "name": "stdout",
     "output_type": "stream",
     "text": [
      "Para mais dicas de atalhos va em: Help > Keyboard Shortcuts\n"
     ]
    }
   ],
   "source": [
    "print(\"Para mais dicas de atalhos va em: Help > Keyboard Shortcuts\")"
   ]
  }
 ],
 "metadata": {
  "kernelspec": {
   "display_name": "Python 3",
   "language": "python",
   "name": "python3"
  },
  "language_info": {
   "codemirror_mode": {
    "name": "ipython",
    "version": 3
   },
   "file_extension": ".py",
   "mimetype": "text/x-python",
   "name": "python",
   "nbconvert_exporter": "python",
   "pygments_lexer": "ipython3",
   "version": "3.6.5"
  }
 },
 "nbformat": 4,
 "nbformat_minor": 2
}
