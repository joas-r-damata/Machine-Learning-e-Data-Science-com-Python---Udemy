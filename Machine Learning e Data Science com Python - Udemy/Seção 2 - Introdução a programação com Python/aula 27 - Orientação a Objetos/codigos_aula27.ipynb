{
 "cells": [
  {
   "cell_type": "code",
   "execution_count": 1,
   "metadata": {
    "collapsed": true
   },
   "outputs": [],
   "source": [
    "# uma classe é um tipo de dado que agrupa dados e funcionalidades em uma mesma estrutura\n",
    "\n",
    "\"\"\"\n",
    "# o atributo especial self, siginifica proprio. Este atributo é utilizado como padrão em todos\n",
    "os métodos da classe. Ele serve para podermos acessar os atributos e métodos, assim como, para iniciá-los\n",
    "\n",
    "#como os atributos da classe são publicos, ao instanciar-mos um objeto dessa classe podemos alterar\n",
    "seus atributos através da palavra-chave self\n",
    "\n",
    "\n",
    "#HERANÇA:\n",
    "\n",
    "Em orientação a objetos o conceito de herança pode ser entendido como uma relação entre duas classes.\n",
    "\n",
    "A classe que herda é chamada de sub-classe\n",
    "A classe que é herdada é chamada de super-classe\n",
    "\n",
    "A classe que herda, herda todos os atributos e métodos da classe herdade, podendo assim, através da palavra\n",
    "chave self serem acessados por chamada a partir da classe herdeira\n",
    "\"\"\"\n"
   ]
  },
  {
   "cell_type": "code",
   "execution_count": 4,
   "metadata": {},
   "outputs": [
    {
     "name": "stdout",
     "output_type": "stream",
     "text": [
      "joas\n",
      "25\n",
      "joas\n"
     ]
    }
   ],
   "source": [
    "class Pessoa:\n",
    "    def __init__(self, nome, idade): #função construtora. Inicia os atributos da classe\n",
    "        self.nome = nome             #self.nome cria o atributo nome e o associa a classe em questão\n",
    "        self.idade = idade\n",
    "        \n",
    "    def imprimir_nome(self):\n",
    "        print(self.nome)\n",
    "        \n",
    "\n",
    "p = Pessoa(\"joas\", \"25\")\n",
    "print(p.nome)\n",
    "print(p.idade)\n",
    "\n",
    "p.imprimir_nome()"
   ]
  },
  {
   "cell_type": "code",
   "execution_count": 7,
   "metadata": {},
   "outputs": [
    {
     "name": "stdout",
     "output_type": "stream",
     "text": [
      "1000\n",
      "1234\n",
      "joas\n"
     ]
    }
   ],
   "source": [
    "# exemplo de herança\n",
    "\n",
    "class Conta:\n",
    "    \n",
    "    def __init__(self, cliente, numero):\n",
    "        self.cliente = cliente\n",
    "        self.numero = numero\n",
    "\n",
    "class ContaEspecial(Conta): # assim fazemos a herança. ContaEspecial Herda de Conta\n",
    "    \n",
    "    def __init__(self, cliente, numero, limite=0):   \n",
    "        Conta.__init__(self, cliente, numero)    #aqui iniciamos, não é instancia, a classe herdada com valores\n",
    "        self.limite = limite\n",
    "        \n",
    "\n",
    "conta = ContaEspecial(\"joas\", \"1234\", 1000)\n",
    "print(conta.limite)\n",
    "print(conta.numero)\n",
    "print(conta.cliente)"
   ]
  }
 ],
 "metadata": {
  "kernelspec": {
   "display_name": "Python 3",
   "language": "python",
   "name": "python3"
  },
  "language_info": {
   "codemirror_mode": {
    "name": "ipython",
    "version": 3
   },
   "file_extension": ".py",
   "mimetype": "text/x-python",
   "name": "python",
   "nbconvert_exporter": "python",
   "pygments_lexer": "ipython3",
   "version": "3.6.5"
  }
 },
 "nbformat": 4,
 "nbformat_minor": 2
}
