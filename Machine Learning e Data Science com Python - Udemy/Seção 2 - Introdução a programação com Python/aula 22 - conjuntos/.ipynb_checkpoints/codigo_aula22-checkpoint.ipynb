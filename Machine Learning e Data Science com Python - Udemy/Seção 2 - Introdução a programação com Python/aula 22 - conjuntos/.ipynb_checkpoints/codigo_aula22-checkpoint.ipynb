{
 "cells": [
  {
   "cell_type": "code",
   "execution_count": null,
   "metadata": {
    "collapsed": true
   },
   "outputs": [],
   "source": [
    "# um conjunto é um tipo de dados de python\n",
    "\n",
    "\"\"\"\n",
    "conjuntos na linguagem python são estruturas que agrupam elementos\n",
    "desordenados sem repetição.\n",
    "\n",
    "conjuntos não suportam indexação, nem fatiamento.\n",
    "\n",
    "\"\"\"\n"
   ]
  }
 ],
 "metadata": {
  "kernelspec": {
   "display_name": "Python 3",
   "language": "python",
   "name": "python3"
  },
  "language_info": {
   "codemirror_mode": {
    "name": "ipython",
    "version": 3
   },
   "file_extension": ".py",
   "mimetype": "text/x-python",
   "name": "python",
   "nbconvert_exporter": "python",
   "pygments_lexer": "ipython3",
   "version": "3.6.5"
  }
 },
 "nbformat": 4,
 "nbformat_minor": 2
}
