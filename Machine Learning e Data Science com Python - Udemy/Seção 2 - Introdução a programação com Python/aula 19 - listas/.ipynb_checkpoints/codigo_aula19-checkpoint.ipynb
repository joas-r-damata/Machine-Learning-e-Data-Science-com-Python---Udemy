{
 "cells": [
  {
   "cell_type": "code",
   "execution_count": 4,
   "metadata": {},
   "outputs": [
    {
     "name": "stdout",
     "output_type": "stream",
     "text": [
      "[1, 2, 3, 4]\n",
      "o tamanho da lista é 4 \n",
      "[1, 3.14, 'joas', [1, 2, 'rodrigues']]\n",
      "1\n",
      "[1, 2, 'rodrigues']\n"
     ]
    }
   ],
   "source": [
    "#criando lista\n",
    "lista = [1,2,3,4]\n",
    "print(lista)\n",
    "print(\"o tamanho da lista é %d \"%len(lista))\n",
    "\n",
    "\n",
    "#listas são estruturas heterogeneas, ou seja, agrupam diferentes tipos de dados, inclusive listas\n",
    "lista = [1, 3.14, \"joas\", [1,2, \"rodrigues\"]]\n",
    "print(lista)\n",
    "\n",
    "#acessando elementos da lista\n",
    "print(lista[0])\n",
    "print(lista[-1])"
   ]
  },
  {
   "cell_type": "code",
   "execution_count": 9,
   "metadata": {},
   "outputs": [
    {
     "name": "stdout",
     "output_type": "stream",
     "text": [
      "1\n",
      "2\n",
      "3\n",
      "4\n"
     ]
    }
   ],
   "source": [
    "#Andando na lista com while\n",
    "lista = [1,2,3,4]\n",
    "cont = 0\n",
    "\n",
    "while cont < len(lista):\n",
    "    print(lista[cont])\n",
    "    cont += 1"
   ]
  }
 ],
 "metadata": {
  "kernelspec": {
   "display_name": "Python 3",
   "language": "python",
   "name": "python3"
  },
  "language_info": {
   "codemirror_mode": {
    "name": "ipython",
    "version": 3
   },
   "file_extension": ".py",
   "mimetype": "text/x-python",
   "name": "python",
   "nbconvert_exporter": "python",
   "pygments_lexer": "ipython3",
   "version": "3.6.5"
  }
 },
 "nbformat": 4,
 "nbformat_minor": 2
}
