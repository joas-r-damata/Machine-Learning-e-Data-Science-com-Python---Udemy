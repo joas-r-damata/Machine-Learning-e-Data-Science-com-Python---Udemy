{
 "cells": [
  {
   "cell_type": "code",
   "execution_count": 4,
   "metadata": {},
   "outputs": [
    {
     "name": "stdout",
     "output_type": "stream",
     "text": [
      "[1, 2, 3, 4]\n",
      "o tamanho da lista é 4 \n",
      "[1, 3.14, 'joas', [1, 2, 'rodrigues']]\n",
      "1\n",
      "[1, 2, 'rodrigues']\n"
     ]
    }
   ],
   "source": [
    "#criando lista\n",
    "lista = [1,2,3,4]\n",
    "print(lista)\n",
    "print(\"o tamanho da lista é %d \"%len(lista))\n",
    "\n",
    "\n",
    "#listas são estruturas heterogeneas, ou seja, agrupam diferentes tipos de dados, inclusive listas\n",
    "lista = [1, 3.14, \"joas\", [1,2, \"rodrigues\"]]\n",
    "print(lista)\n",
    "\n",
    "#acessando elementos da lista\n",
    "print(lista[0])\n",
    "print(lista[-1])"
   ]
  },
  {
   "cell_type": "code",
   "execution_count": 10,
   "metadata": {},
   "outputs": [
    {
     "name": "stdout",
     "output_type": "stream",
     "text": [
      "1\n",
      "2\n",
      "3\n",
      "4\n"
     ]
    }
   ],
   "source": [
    "#Andando na lista com while\n",
    "lista = [1,2,3,4]\n",
    "cont = 0\n",
    "\n",
    "while cont < len(lista):\n",
    "    print(lista[cont])\n",
    "    cont += 1"
   ]
  },
  {
   "cell_type": "code",
   "execution_count": 16,
   "metadata": {},
   "outputs": [
    {
     "name": "stdout",
     "output_type": "stream",
     "text": [
      "[4, 5, 6]\n"
     ]
    }
   ],
   "source": [
    "#imprimindo um pedaço da lista\n",
    "lista = [1,2,3,4,5,6]\n",
    "print(lista[-3:])"
   ]
  },
  {
   "cell_type": "code",
   "execution_count": 21,
   "metadata": {},
   "outputs": [
    {
     "name": "stdout",
     "output_type": "stream",
     "text": [
      "[1, 2, 3, 4] [1, 2, 3, 4]\n",
      "[10, 2, 3, 4] [10, 2, 3, 4]\n",
      "id da lista1: 140013793540232\n",
      "id da lista2: 140013793540232\n"
     ]
    }
   ],
   "source": [
    "#como não copiar uma lista\n",
    "lista1 = [1,2,3,4]\n",
    "lista2 = lista1 #copia somente a referencia à lista [1,2,3,4], fazendo assim um novo rotulo\n",
    "\n",
    "print(lista1, lista2)\n",
    "lista1[0] = 10\n",
    "print(lista1, lista2)\n",
    "\n",
    "print(\"id da lista1: %d\" %id(lista1))\n",
    "print(\"id da lista2: %d\" %id(lista2))"
   ]
  },
  {
   "cell_type": "code",
   "execution_count": 23,
   "metadata": {},
   "outputs": [
    {
     "name": "stdout",
     "output_type": "stream",
     "text": [
      "[1, 2, 3, 4] [1, 2, 3, 4]\n",
      "[10, 2, 3, 4] [1, 2, 3, 4]\n"
     ]
    }
   ],
   "source": [
    "#como copiar uma lista de verdade\n",
    "lista1 = [1,2,3,4]\n",
    "lista3 = lista1[:]\n",
    "\n",
    "print(lista1, lista3)\n",
    "lista1[0] = 10\n",
    "print(lista1, lista3)"
   ]
  },
  {
   "cell_type": "code",
   "execution_count": 25,
   "metadata": {},
   "outputs": [
    {
     "name": "stdout",
     "output_type": "stream",
     "text": [
      "[1, 2, 3, 'joas']\n"
     ]
    }
   ],
   "source": [
    "#adicionar elemento ao final da lista\n",
    "lista = [1,2,3]\n",
    "lista.append(\"joas\")\n",
    "print(lista)"
   ]
  },
  {
   "cell_type": "code",
   "execution_count": 29,
   "metadata": {},
   "outputs": [
    {
     "name": "stdout",
     "output_type": "stream",
     "text": [
      "[1, 2, 3, 4, 5, 6]\n"
     ]
    }
   ],
   "source": [
    "#concatenando listas\n",
    "l1 = [1,2,3]\n",
    "l2 = [4,5,6]\n",
    "\n",
    "l3 = l1+l2\n",
    "print(l3)"
   ]
  },
  {
   "cell_type": "code",
   "execution_count": 38,
   "metadata": {},
   "outputs": [
    {
     "name": "stdout",
     "output_type": "stream",
     "text": [
      "[1, 2, 3]\n"
     ]
    },
    {
     "data": {
      "text/plain": [
       "[1, 2]"
      ]
     },
     "execution_count": 38,
     "metadata": {},
     "output_type": "execute_result"
    }
   ],
   "source": [
    "#remover elemento pelo indice\n",
    "lista = [1,2,3]\n",
    "print(lista)\n",
    "lista.pop(-1)\n",
    "lista"
   ]
  },
  {
   "cell_type": "code",
   "execution_count": 44,
   "metadata": {},
   "outputs": [
    {
     "name": "stdout",
     "output_type": "stream",
     "text": [
      "[1, 2, 3, 'joas']\n",
      "[1, 2, 3]\n"
     ]
    }
   ],
   "source": [
    "#remover elemento por busca ao elemento\n",
    "lista = [1,2,3, \"joas\"]\n",
    "print(lista)\n",
    "\n",
    "lista.remove(\"joas\")\n",
    "print(lista)"
   ]
  },
  {
   "cell_type": "code",
   "execution_count": 47,
   "metadata": {},
   "outputs": [
    {
     "name": "stdout",
     "output_type": "stream",
     "text": [
      "[4, 3, 2, 1]\n",
      "[1, 2, 3, 4]\n"
     ]
    }
   ],
   "source": [
    "#ordenar lista\n",
    "lista = [4,3,2,1]\n",
    "print(lista)\n",
    "\n",
    "lista.sort()\n",
    "print(lista)"
   ]
  },
  {
   "cell_type": "code",
   "execution_count": 49,
   "metadata": {},
   "outputs": [
    {
     "name": "stdout",
     "output_type": "stream",
     "text": [
      "[1, 2, 3]\n",
      "[3, 2, 1]\n"
     ]
    }
   ],
   "source": [
    "#inverter lista\n",
    "lista = [1,2,3]\n",
    "print(lista)\n",
    "\n",
    "lista.reverse()\n",
    "print(lista)"
   ]
  }
 ],
 "metadata": {
  "kernelspec": {
   "display_name": "Python 3",
   "language": "python",
   "name": "python3"
  },
  "language_info": {
   "codemirror_mode": {
    "name": "ipython",
    "version": 3
   },
   "file_extension": ".py",
   "mimetype": "text/x-python",
   "name": "python",
   "nbconvert_exporter": "python",
   "pygments_lexer": "ipython3",
   "version": "3.6.5"
  }
 },
 "nbformat": 4,
 "nbformat_minor": 2
}
