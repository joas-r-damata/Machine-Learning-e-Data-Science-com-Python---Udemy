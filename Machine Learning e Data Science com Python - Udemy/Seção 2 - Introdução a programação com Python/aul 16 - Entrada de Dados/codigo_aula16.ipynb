{
 "cells": [
  {
   "cell_type": "code",
   "execution_count": 4,
   "metadata": {},
   "outputs": [
    {
     "name": "stdout",
     "output_type": "stream",
     "text": [
      "digite seu nome >> \n",
      "\n"
     ]
    }
   ],
   "source": [
    "# a entreda \n",
    "nome = input(\"digite seu nome >> \")\n",
    "print(nome)"
   ]
  },
  {
   "cell_type": "code",
   "execution_count": 7,
   "metadata": {},
   "outputs": [
    {
     "name": "stdout",
     "output_type": "stream",
     "text": [
      "digite sua idade >> 56\n",
      "56\n",
      "<class 'str'>\n",
      "\n",
      "\n",
      "\n",
      "56\n",
      "<class 'int'>\n"
     ]
    }
   ],
   "source": [
    "#casting. mudança de tipo\n",
    "idade = input(\"digite sua idade >> \")\n",
    "print(idade)\n",
    "print(type(idade))\n",
    "print(\"\\n\\n\")\n",
    "\n",
    "idade = int(idade)\n",
    "print(idade)\n",
    "print(type(idade))"
   ]
  }
 ],
 "metadata": {
  "kernelspec": {
   "display_name": "Python 3",
   "language": "python",
   "name": "python3"
  },
  "language_info": {
   "codemirror_mode": {
    "name": "ipython",
    "version": 3
   },
   "file_extension": ".py",
   "mimetype": "text/x-python",
   "name": "python",
   "nbconvert_exporter": "python",
   "pygments_lexer": "ipython3",
   "version": "3.6.5"
  }
 },
 "nbformat": 4,
 "nbformat_minor": 2
}
